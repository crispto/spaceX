{
 "cells": [
  {
   "cell_type": "code",
   "execution_count": 23,
   "id": "9e4efe6e-8d9b-45eb-98ef-d8e01de7c36f",
   "metadata": {},
   "outputs": [],
   "source": [
    "import numpy as np\n",
    "from numpy import array as array\n",
    "from numpy import arange\n",
    "from numpy.linalg import norm"
   ]
  },
  {
   "cell_type": "code",
   "execution_count": 15,
   "id": "55311014-3fe8-44a1-869a-08c900413462",
   "metadata": {},
   "outputs": [
    {
     "name": "stdout",
     "output_type": "stream",
     "text": [
      "float32\n",
      "int64\n",
      "item size of a: 4, b 8\n"
     ]
    }
   ],
   "source": [
    "a = np.zeros((3,3), np.float32)\n",
    "print(a.dtype)\n",
    "b = np.zeros((2,2), np.int64)\n",
    "print(b.dtype)\n",
    "print(f\"item size of a: {a.dtype.itemsize}, b {b.dtype.itemsize}\")"
   ]
  },
  {
   "cell_type": "code",
   "execution_count": 12,
   "id": "b8b999a5-96ee-43af-91a2-dfd85a1e6e61",
   "metadata": {},
   "outputs": [
    {
     "name": "stdout",
     "output_type": "stream",
     "text": [
      "[[0 1 2]\n",
      " [0 1 2]]\n"
     ]
    }
   ],
   "source": [
    "m = array([arange(3), arange(3)])\n",
    "print(m)"
   ]
  },
  {
   "cell_type": "code",
   "execution_count": 14,
   "id": "cfdfb39d-74dc-4491-b421-26bdbb0e61a2",
   "metadata": {},
   "outputs": [
    {
     "name": "stdout",
     "output_type": "stream",
     "text": [
      "[0 2 4]\n",
      "[3 3]\n"
     ]
    }
   ],
   "source": [
    "row_sum = m.sum(axis=0)\n",
    "print(row_sum)\n",
    "col_sum = m.sum(axis=-1)\n",
    "print(col_sum)"
   ]
  },
  {
   "cell_type": "code",
   "execution_count": 17,
   "id": "3652b8b3-47fa-4170-a4e7-22b33e76fd24",
   "metadata": {},
   "outputs": [
    {
     "name": "stdout",
     "output_type": "stream",
     "text": [
      "[0 1 2 3 4 5 6 7 8]\n",
      "[3 4 5 6]\n",
      "[0 1 2 0 0 0 0 7 8]\n",
      "[0 0 0 0]\n"
     ]
    }
   ],
   "source": [
    "a = arange(9)\n",
    "b = a[3:7]\n",
    "print(a)\n",
    "print(b)\n",
    "b[:] = 0\n",
    "print(a)# 切片是共享数据的，改一个都会改\n",
    "print(b)"
   ]
  },
  {
   "cell_type": "code",
   "execution_count": 20,
   "id": "1dbe9dc9-57f5-40c7-aea9-b12076821281",
   "metadata": {},
   "outputs": [
    {
     "name": "stdout",
     "output_type": "stream",
     "text": [
      "[0 2 4 6]\n",
      "[0 1 2 3 4 5 6 7 8]\n",
      "[0 0 0 0]\n"
     ]
    }
   ],
   "source": [
    "a = arange(9)\n",
    "c = a[:7:2].copy()# 如果要避免共享数据，就另外开辟一个\n",
    "print(c)\n",
    "c[:] = 0\n",
    "print(a)\n",
    "print(c)"
   ]
  },
  {
   "cell_type": "code",
   "execution_count": 24,
   "id": "a24c7c61-aa05-4962-a228-5853baad61e7",
   "metadata": {},
   "outputs": [
    {
     "name": "stdout",
     "output_type": "stream",
     "text": [
      "[[[ 0  1  2  3]\n",
      "  [ 4  5  6  7]\n",
      "  [ 8  9 10 11]]\n",
      "\n",
      " [[12 13 14 15]\n",
      "  [16 17 18 19]\n",
      "  [20 21 22 23]]]\n"
     ]
    }
   ],
   "source": [
    "v = arange(24).reshape((2,3,4))\n",
    "print(v)"
   ]
  },
  {
   "cell_type": "code",
   "execution_count": 25,
   "id": "7d7d9bfd-6ceb-4b9d-abfc-87d8db0d3803",
   "metadata": {},
   "outputs": [
    {
     "name": "stdout",
     "output_type": "stream",
     "text": [
      "[[12.         13.03840481 14.14213562 15.29705854]\n",
      " [16.4924225  17.72004515 18.97366596 20.24845673]\n",
      " [21.54065923 22.84731932 24.16609195 25.49509757]]\n"
     ]
    }
   ],
   "source": [
    "z= norm(v, axis=0)\n",
    "print(z)"
   ]
  },
  {
   "cell_type": "code",
   "execution_count": 26,
   "id": "9143456f-fa73-40ad-98b3-b1dac6e6d972",
   "metadata": {},
   "outputs": [
    {
     "name": "stdout",
     "output_type": "stream",
     "text": [
      "[[ 8.94427191 10.34408043 11.83215957 13.37908816]\n",
      " [28.28427125 29.9833287  31.68595904 33.39161571]]\n"
     ]
    }
   ],
   "source": [
    "z=norm(v, axis=1)\n",
    "print(z)"
   ]
  },
  {
   "cell_type": "code",
   "execution_count": 27,
   "id": "cfda2494-87eb-4470-a457-63a9b33054f9",
   "metadata": {},
   "outputs": [
    {
     "name": "stdout",
     "output_type": "stream",
     "text": [
      "[[ 3.74165739 11.22497216 19.13112647]\n",
      " [27.09243437 35.07135583 43.05810028]]\n"
     ]
    }
   ],
   "source": [
    "z=norm(v, axis=-1)\n",
    "print(z)"
   ]
  },
  {
   "cell_type": "code",
   "execution_count": 40,
   "id": "caa4bd8b-ad0e-4a63-8d3d-626ffa672ed8",
   "metadata": {},
   "outputs": [
    {
     "name": "stdout",
     "output_type": "stream",
     "text": [
      "[[0 5]\n",
      " [1 6]\n",
      " [2 7]\n",
      " [3 8]\n",
      " [4 9]]\n",
      "[2 7]\n",
      "[[ 2  2]\n",
      " [ 1  1]\n",
      " [ 0  0]\n",
      " [-1 -1]\n",
      " [-2 -2]]\n",
      "[2.82842712 1.41421356 0.         1.41421356 2.82842712]\n",
      "min value: 0.0, min value idx: 2\n"
     ]
    }
   ],
   "source": [
    "a=arange(0,10).reshape((2,5)).T\n",
    "print(a)\n",
    "b= a[2].copy()\n",
    "print(b)\n",
    "z= b -a\n",
    "print(z)\n",
    "d = norm(z, axis=-1)\n",
    "print(d)\n",
    "print(f\"min value: {np.min(d)}, min value idx: {np.argmin(d)}\")"
   ]
  }
 ],
 "metadata": {
  "kernelspec": {
   "display_name": "Python 3 (ipykernel)",
   "language": "python",
   "name": "python3"
  },
  "language_info": {
   "codemirror_mode": {
    "name": "ipython",
    "version": 3
   },
   "file_extension": ".py",
   "mimetype": "text/x-python",
   "name": "python",
   "nbconvert_exporter": "python",
   "pygments_lexer": "ipython3",
   "version": "3.11.4"
  }
 },
 "nbformat": 4,
 "nbformat_minor": 5
}
